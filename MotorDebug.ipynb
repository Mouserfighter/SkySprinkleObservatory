{
 "cells": [
  {
   "cell_type": "code",
   "execution_count": 2,
   "id": "eb63b56a-ddfe-47b5-b65e-7d33bf2eddcb",
   "metadata": {},
   "outputs": [],
   "source": [
    "import config\n",
    "from Motor.Motor import Motor\n",
    "\n",
    "motor = Motor(config.TURRET)\n",
    "motor.zero()\n",
    "motor.go_to(90, degrees_per_second=5)"
   ]
  },
  {
   "cell_type": "code",
   "execution_count": null,
   "id": "fae37a16-bb7c-47ae-a05f-1e997ead3096",
   "metadata": {},
   "outputs": [],
   "source": []
  }
 ],
 "metadata": {
  "kernelspec": {
   "display_name": "Python 3 (ipykernel)",
   "language": "python",
   "name": "python3"
  },
  "language_info": {
   "codemirror_mode": {
    "name": "ipython",
    "version": 3
   },
   "file_extension": ".py",
   "mimetype": "text/x-python",
   "name": "python",
   "nbconvert_exporter": "python",
   "pygments_lexer": "ipython3",
   "version": "3.11.2"
  }
 },
 "nbformat": 4,
 "nbformat_minor": 5
}
