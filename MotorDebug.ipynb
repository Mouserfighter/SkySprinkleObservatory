{
 "cells": [
  {
   "cell_type": "code",
   "execution_count": 1,
   "id": "eb63b56a-ddfe-47b5-b65e-7d33bf2eddcb",
   "metadata": {},
   "outputs": [
    {
     "name": "stderr",
     "output_type": "stream",
     "text": [
      "/home/lmaloney/SkySprinkleObservatory/Motor/Motor.py:22: RuntimeWarning: This channel is already in use, continuing anyway.  Use GPIO.setwarnings(False) to disable warnings.\n",
      "  GPIO.setup(self.config.step_pin, GPIO.OUT)\n",
      "/home/lmaloney/SkySprinkleObservatory/Motor/Motor.py:23: RuntimeWarning: This channel is already in use, continuing anyway.  Use GPIO.setwarnings(False) to disable warnings.\n",
      "  GPIO.setup(self.config.direction_pin, GPIO.OUT)\n",
      "/home/lmaloney/SkySprinkleObservatory/Motor/Motor.py:25: RuntimeWarning: This channel is already in use, continuing anyway.  Use GPIO.setwarnings(False) to disable warnings.\n",
      "  GPIO.setup(self.config.enable_pin, GPIO.OUT)\n"
     ]
    }
   ],
   "source": [
    "import config\n",
    "from Motor.Motor import Motor\n",
    "import time\n",
    "turntable = Motor(config.TURNTABLE)\n",
    "turret = Motor(config.TURRET)\n",
    "spin = Motor(config.SPIN)"
   ]
  },
  {
   "cell_type": "code",
   "execution_count": 3,
   "id": "fae37a16-bb7c-47ae-a05f-1e997ead3096",
   "metadata": {
    "scrolled": true
   },
   "outputs": [
    {
     "name": "stdout",
     "output_type": "stream",
     "text": [
      "calculated current angle as 0.0\n"
     ]
    },
    {
     "ename": "KeyboardInterrupt",
     "evalue": "",
     "output_type": "error",
     "traceback": [
      "\u001b[0;31m---------------------------------------------------------------------------\u001b[0m",
      "\u001b[0;31mKeyboardInterrupt\u001b[0m                         Traceback (most recent call last)",
      "Cell \u001b[0;32mIn[3], line 4\u001b[0m\n\u001b[1;32m      2\u001b[0m motor\u001b[38;5;241m.\u001b[39mzero()\n\u001b[1;32m      3\u001b[0m \u001b[38;5;28;01mfor\u001b[39;00m _ \u001b[38;5;129;01min\u001b[39;00m \u001b[38;5;28mrange\u001b[39m(\u001b[38;5;241m5\u001b[39m):\n\u001b[0;32m----> 4\u001b[0m     \u001b[43mmotor\u001b[49m\u001b[38;5;241;43m.\u001b[39;49m\u001b[43mgo_to_absolute\u001b[49m\u001b[43m(\u001b[49m\u001b[38;5;241;43m180\u001b[39;49m\u001b[43m,\u001b[49m\u001b[43m \u001b[49m\u001b[43mdegrees_per_second\u001b[49m\u001b[38;5;241;43m=\u001b[39;49m\u001b[38;5;241;43m20\u001b[39;49m\u001b[43m)\u001b[49m\n\u001b[1;32m      5\u001b[0m     time\u001b[38;5;241m.\u001b[39msleep(\u001b[38;5;241m10\u001b[39m)\n\u001b[1;32m      6\u001b[0m     motor\u001b[38;5;241m.\u001b[39mgo_to_absolute(\u001b[38;5;241m90\u001b[39m, degrees_per_second\u001b[38;5;241m=\u001b[39m\u001b[38;5;241m20\u001b[39m)\n",
      "File \u001b[0;32m~/SkySprinkleObservatory/Motor/Motor.py:123\u001b[0m, in \u001b[0;36mMotor.go_to_absolute\u001b[0;34m(self, angle, degrees_per_second, check_limit, cancellation_event)\u001b[0m\n\u001b[1;32m    121\u001b[0m \u001b[38;5;28mprint\u001b[39m(\u001b[38;5;124mf\u001b[39m\u001b[38;5;124m\"\u001b[39m\u001b[38;5;124mcalculated current angle as \u001b[39m\u001b[38;5;132;01m{\u001b[39;00mcurrent_angle\u001b[38;5;132;01m}\u001b[39;00m\u001b[38;5;124m\"\u001b[39m)\n\u001b[1;32m    122\u001b[0m target_rel_angle \u001b[38;5;241m=\u001b[39m angle \u001b[38;5;241m-\u001b[39m current_angle\n\u001b[0;32m--> 123\u001b[0m \u001b[38;5;28;43mself\u001b[39;49m\u001b[38;5;241;43m.\u001b[39;49m\u001b[43mgo_to\u001b[49m\u001b[43m(\u001b[49m\u001b[43mtarget_rel_angle\u001b[49m\u001b[43m,\u001b[49m\u001b[43m \u001b[49m\u001b[43mdegrees_per_second\u001b[49m\u001b[43m,\u001b[49m\u001b[43m \u001b[49m\u001b[43mcheck_limit\u001b[49m\u001b[43m,\u001b[49m\u001b[43m \u001b[49m\u001b[43mcancellation_event\u001b[49m\u001b[43m)\u001b[49m\n",
      "File \u001b[0;32m~/SkySprinkleObservatory/Motor/Motor.py:116\u001b[0m, in \u001b[0;36mMotor.go_to\u001b[0;34m(self, angle, degrees_per_second, check_limit, cancellation_event)\u001b[0m\n\u001b[1;32m    114\u001b[0m     step_dir \u001b[38;5;241m=\u001b[39m \u001b[38;5;129;01mnot\u001b[39;00m step_dir\n\u001b[1;32m    115\u001b[0m \u001b[38;5;66;03m# TODO: rounding errors?\u001b[39;00m\n\u001b[0;32m--> 116\u001b[0m \u001b[38;5;28;43mself\u001b[39;49m\u001b[38;5;241;43m.\u001b[39;49m\u001b[43mstep_motor\u001b[49m\u001b[43m(\u001b[49m\u001b[43msteps\u001b[49m\u001b[38;5;241;43m=\u001b[39;49m\u001b[38;5;28;43mint\u001b[39;49m\u001b[43m(\u001b[49m\u001b[38;5;28;43mabs\u001b[39;49m\u001b[43m(\u001b[49m\u001b[43mangle\u001b[49m\u001b[43m)\u001b[49m\u001b[43m \u001b[49m\u001b[38;5;241;43m/\u001b[39;49m\u001b[43m \u001b[49m\u001b[38;5;28;43mself\u001b[39;49m\u001b[38;5;241;43m.\u001b[39;49m\u001b[43mconfig\u001b[49m\u001b[38;5;241;43m.\u001b[39;49m\u001b[43mdegrees_per_step\u001b[49m\u001b[43m)\u001b[49m\u001b[43m,\u001b[49m\n\u001b[1;32m    117\u001b[0m \u001b[43m                \u001b[49m\u001b[43mdirection\u001b[49m\u001b[38;5;241;43m=\u001b[39;49m\u001b[43mstep_dir\u001b[49m\u001b[43m,\u001b[49m\u001b[43m \u001b[49m\u001b[43mseconds_per_step\u001b[49m\u001b[38;5;241;43m=\u001b[39;49m\u001b[43mseconds_per_step\u001b[49m\u001b[43m,\u001b[49m\u001b[43m \u001b[49m\u001b[43mcheck_limit\u001b[49m\u001b[38;5;241;43m=\u001b[39;49m\u001b[43mcheck_limit\u001b[49m\u001b[43m,\u001b[49m\u001b[43m \u001b[49m\u001b[43mcancellation_event\u001b[49m\u001b[38;5;241;43m=\u001b[39;49m\u001b[43mcancellation_event\u001b[49m\u001b[43m)\u001b[49m\n",
      "File \u001b[0;32m~/SkySprinkleObservatory/Motor/Motor.py:83\u001b[0m, in \u001b[0;36mMotor.step_motor\u001b[0;34m(self, steps, direction, seconds_per_step, check_limit, cancellation_event)\u001b[0m\n\u001b[1;32m     81\u001b[0m     \u001b[38;5;28;01mbreak\u001b[39;00m\n\u001b[1;32m     82\u001b[0m GPIO\u001b[38;5;241m.\u001b[39moutput(\u001b[38;5;28mself\u001b[39m\u001b[38;5;241m.\u001b[39mconfig\u001b[38;5;241m.\u001b[39mstep_pin, GPIO\u001b[38;5;241m.\u001b[39mHIGH)\n\u001b[0;32m---> 83\u001b[0m time\u001b[38;5;241m.\u001b[39msleep(half_seconds_per_step)\n\u001b[1;32m     84\u001b[0m GPIO\u001b[38;5;241m.\u001b[39moutput(\u001b[38;5;28mself\u001b[39m\u001b[38;5;241m.\u001b[39mconfig\u001b[38;5;241m.\u001b[39mstep_pin, GPIO\u001b[38;5;241m.\u001b[39mLOW)\n\u001b[1;32m     85\u001b[0m \u001b[38;5;28mself\u001b[39m\u001b[38;5;241m.\u001b[39mcurrent_step \u001b[38;5;241m+\u001b[39m\u001b[38;5;241m=\u001b[39m step_inc\n",
      "\u001b[0;31mKeyboardInterrupt\u001b[0m: "
     ]
    }
   ],
   "source": [
    "motor = turntable\n",
    "motor.zero()\n",
    "for _ in range(5):\n",
    "    motor.go_to_absolute(180, degrees_per_second=20)\n",
    "    time.sleep(10)\n",
    "    motor.go_to_absolute(90, degrees_per_second=20)\n"
   ]
  },
  {
   "cell_type": "code",
   "execution_count": 2,
   "id": "0dd8d733-fbf7-4bb4-9e47-4a43ea40def6",
   "metadata": {},
   "outputs": [
    {
     "ename": "KeyboardInterrupt",
     "evalue": "",
     "output_type": "error",
     "traceback": [
      "\u001b[0;31m---------------------------------------------------------------------------\u001b[0m",
      "\u001b[0;31mKeyboardInterrupt\u001b[0m                         Traceback (most recent call last)",
      "Cell \u001b[0;32mIn[2], line 1\u001b[0m\n\u001b[0;32m----> 1\u001b[0m \u001b[43mturret\u001b[49m\u001b[38;5;241;43m.\u001b[39;49m\u001b[43mzero\u001b[49m\u001b[43m(\u001b[49m\u001b[43m)\u001b[49m\n\u001b[1;32m      2\u001b[0m turret\u001b[38;5;241m.\u001b[39mgo_to_absolute(\u001b[38;5;241m180\u001b[39m,\u001b[38;5;241m20\u001b[39m)\n\u001b[1;32m      3\u001b[0m turntable\u001b[38;5;241m.\u001b[39mzero()\n",
      "File \u001b[0;32m~/SkySprinkleObservatory/Motor/Motor.py:133\u001b[0m, in \u001b[0;36mMotor.zero\u001b[0;34m(self)\u001b[0m\n\u001b[1;32m    131\u001b[0m     \u001b[38;5;28;01mpass\u001b[39;00m\n\u001b[1;32m    132\u001b[0m \u001b[38;5;28;01mwhile\u001b[39;00m \u001b[38;5;129;01mnot\u001b[39;00m \u001b[38;5;28mself\u001b[39m\u001b[38;5;241m.\u001b[39mconfig\u001b[38;5;241m.\u001b[39mlimit_switch\u001b[38;5;241m.\u001b[39misActive():\n\u001b[0;32m--> 133\u001b[0m     \u001b[38;5;28;43mself\u001b[39;49m\u001b[38;5;241;43m.\u001b[39;49m\u001b[43mstep_motor\u001b[49m\u001b[43m(\u001b[49m\u001b[38;5;241;43m10\u001b[39;49m\u001b[43m,\u001b[49m\u001b[43m \u001b[49m\u001b[38;5;129;43;01mnot\u001b[39;49;00m\u001b[43m \u001b[49m\u001b[38;5;28;43mself\u001b[39;49m\u001b[38;5;241;43m.\u001b[39;49m\u001b[43mconfig\u001b[49m\u001b[38;5;241;43m.\u001b[39;49m\u001b[43mforward_direction\u001b[49m\u001b[43m,\u001b[49m\u001b[43m \u001b[49m\u001b[43mseconds_per_step\u001b[49m\u001b[38;5;241;43m=\u001b[39;49m\u001b[38;5;28;43mself\u001b[39;49m\u001b[38;5;241;43m.\u001b[39;49m\u001b[43m_calculate_seconds_per_step\u001b[49m\u001b[43m(\u001b[49m\u001b[43mconfig\u001b[49m\u001b[38;5;241;43m.\u001b[39;49m\u001b[43mzero_degrees_per_sec\u001b[49m\u001b[43m)\u001b[49m\u001b[43m,\u001b[49m\n\u001b[1;32m    134\u001b[0m \u001b[43m                    \u001b[49m\u001b[43mcheck_limit\u001b[49m\u001b[38;5;241;43m=\u001b[39;49m\u001b[38;5;28;43;01mFalse\u001b[39;49;00m\u001b[43m)\u001b[49m\n\u001b[1;32m    135\u001b[0m \u001b[38;5;28mself\u001b[39m\u001b[38;5;241m.\u001b[39mcurrent_step \u001b[38;5;241m=\u001b[39m \u001b[38;5;241m0\u001b[39m\n",
      "File \u001b[0;32m~/SkySprinkleObservatory/Motor/Motor.py:83\u001b[0m, in \u001b[0;36mMotor.step_motor\u001b[0;34m(self, steps, direction, seconds_per_step, check_limit, cancellation_event)\u001b[0m\n\u001b[1;32m     81\u001b[0m     \u001b[38;5;28;01mbreak\u001b[39;00m\n\u001b[1;32m     82\u001b[0m GPIO\u001b[38;5;241m.\u001b[39moutput(\u001b[38;5;28mself\u001b[39m\u001b[38;5;241m.\u001b[39mconfig\u001b[38;5;241m.\u001b[39mstep_pin, GPIO\u001b[38;5;241m.\u001b[39mHIGH)\n\u001b[0;32m---> 83\u001b[0m time\u001b[38;5;241m.\u001b[39msleep(half_seconds_per_step)\n\u001b[1;32m     84\u001b[0m GPIO\u001b[38;5;241m.\u001b[39moutput(\u001b[38;5;28mself\u001b[39m\u001b[38;5;241m.\u001b[39mconfig\u001b[38;5;241m.\u001b[39mstep_pin, GPIO\u001b[38;5;241m.\u001b[39mLOW)\n\u001b[1;32m     85\u001b[0m \u001b[38;5;28mself\u001b[39m\u001b[38;5;241m.\u001b[39mcurrent_step \u001b[38;5;241m+\u001b[39m\u001b[38;5;241m=\u001b[39m step_inc\n",
      "\u001b[0;31mKeyboardInterrupt\u001b[0m: "
     ]
    }
   ],
   "source": [
    "turret.zero()\n",
    "turret.go_to_absolute(180,20)\n",
    "turntable.zero()\n",
    "turntable.go_to_absolute(180, 20)"
   ]
  },
  {
   "cell_type": "code",
   "execution_count": 3,
   "id": "c1cb5d52-c13c-46e6-9101-af76c36ac242",
   "metadata": {},
   "outputs": [],
   "source": [
    "from StarTracker.StarTracker import StarTracker\n",
    "\n",
    "star_tracker = StarTracker(turntable, turret, spin)\n",
    "star_tracker.zero()"
   ]
  },
  {
   "cell_type": "code",
   "execution_count": 18,
   "id": "c564eb11-7ccb-4968-bc04-666cee39ca4c",
   "metadata": {},
   "outputs": [],
   "source": [
    "star_tracker.zero()"
   ]
  },
  {
   "cell_type": "code",
   "execution_count": 19,
   "id": "d08d032a-a880-4ac2-a54e-17eb4b5767a1",
   "metadata": {},
   "outputs": [
    {
     "name": "stdout",
     "output_type": "stream",
     "text": [
      "2024-06-14 18:25:37,580 - StarTracker.StarTracker - DEBUG - DX = target (90) - current (0.0) = 90.0\n",
      "2024-06-14 18:25:37,613 - StarTracker.StarTracker - DEBUG - DY = target (90) - current (0.0) = 90.0\n",
      "2024-06-14 18:25:37,621 - StarTracker.StarTracker - INFO - Speed components to move 10 deg/sec. X: 7.071067811865475, Y:7.071067811865475\n",
      "90 90 current pos: (89.99648437500001, 89.98200000000001, 0.0)\n",
      "2024-06-14 18:25:57,763 - StarTracker.StarTracker - DEBUG - DX = target (180) - current (89.99648437500001) = 90.00351562499999\n",
      "2024-06-14 18:25:57,777 - StarTracker.StarTracker - DEBUG - DY = target (180) - current (89.98200000000001) = 90.01799999999999\n",
      "2024-06-14 18:25:57,805 - StarTracker.StarTracker - INFO - Speed components to move 10 deg/sec. X: 7.070498856996595, Y:7.0716367209585815\n",
      "180 180 current pos: (179.99296875000002, 179.98200000000003, 0.0)\n",
      "2024-06-14 18:26:18,058 - StarTracker.StarTracker - DEBUG - DX = target (270) - current (179.99296875000002) = 90.00703124999998\n",
      "2024-06-14 18:26:18,073 - StarTracker.StarTracker - DEBUG - DY = target (270) - current (179.98200000000003) = 90.01799999999997\n",
      "2024-06-14 18:26:18,100 - StarTracker.StarTracker - INFO - Speed components to move 10 deg/sec. X: 7.0706369654591175, Y:7.071498632021582\n",
      "270 270 current pos: (269.989453125, 269.982, 0.0)\n",
      "2024-06-14 18:26:38,414 - StarTracker.StarTracker - DEBUG - DX = target (90) - current (269.989453125) = -179.989453125\n",
      "2024-06-14 18:26:38,428 - StarTracker.StarTracker - DEBUG - DY = target (90) - current (269.982) = -179.98200000000003\n",
      "2024-06-14 18:26:38,454 - StarTracker.StarTracker - INFO - Speed components to move 10 deg/sec. X: 7.071214215160041, Y:7.070921405539632\n",
      "90 90 current pos: (90.00703125000001, 90.00000000000001, 0.0)\n",
      "2024-06-14 18:27:13,799 - StarTracker.StarTracker - DEBUG - DX = target (180) - current (90.00703125000001) = 89.99296874999999\n",
      "2024-06-14 18:27:13,813 - StarTracker.StarTracker - DEBUG - DY = target (180) - current (90.00000000000001) = 89.99999999999999\n",
      "2024-06-14 18:27:13,840 - StarTracker.StarTracker - INFO - Speed components to move 10 deg/sec. X: 7.070791582094052, Y:7.071344030846461\n",
      "180 180 current pos: (179.99296875000002, 179.98200000000003, 0.0)\n",
      "2024-06-14 18:27:34,025 - StarTracker.StarTracker - DEBUG - DX = target (270) - current (179.99296875000002) = 90.00703124999998\n",
      "2024-06-14 18:27:34,036 - StarTracker.StarTracker - DEBUG - DY = target (270) - current (179.98200000000003) = 90.01799999999997\n",
      "2024-06-14 18:27:34,060 - StarTracker.StarTracker - INFO - Speed components to move 10 deg/sec. X: 7.0706369654591175, Y:7.071498632021582\n",
      "270 270 current pos: (269.989453125, 269.982, 0.0)\n",
      "2024-06-14 18:27:54,263 - StarTracker.StarTracker - DEBUG - DX = target (90) - current (269.989453125) = -179.989453125\n",
      "2024-06-14 18:27:54,274 - StarTracker.StarTracker - DEBUG - DY = target (90) - current (269.982) = -179.98200000000003\n",
      "2024-06-14 18:27:54,300 - StarTracker.StarTracker - INFO - Speed components to move 10 deg/sec. X: 7.071214215160041, Y:7.070921405539632\n",
      "Stopping motor stepping 17065 in True dir because cancellation or limit switch\n",
      "Stopping motor stepping 9999 in False dir because cancellation or limit switch\n",
      "90 90 current pos: (216.305859375, 118.60200000000002, 0.0)\n",
      "2024-06-14 18:28:23,243 - StarTracker.StarTracker - DEBUG - DX = target (180) - current (216.305859375) = -36.30585937500001\n",
      "2024-06-14 18:28:23,254 - StarTracker.StarTracker - DEBUG - DY = target (180) - current (118.60200000000002) = 61.39799999999998\n",
      "2024-06-14 18:28:23,280 - StarTracker.StarTracker - INFO - Speed components to move 10 deg/sec. X: 5.089913860208544, Y:8.60771612541079\n",
      "180 180 current pos: (180.003515625, 179.98200000000003, 0.0)\n",
      "2024-06-14 18:28:36,457 - StarTracker.StarTracker - DEBUG - DX = target (270) - current (180.003515625) = 89.996484375\n",
      "2024-06-14 18:28:36,470 - StarTracker.StarTracker - DEBUG - DY = target (270) - current (179.98200000000003) = 90.01799999999997\n",
      "2024-06-14 18:28:36,493 - StarTracker.StarTracker - INFO - Speed components to move 10 deg/sec. X: 7.070222615798345, Y:7.071912906919429\n",
      "270 270 current pos: (269.989453125, 269.982, 0.0)\n",
      "2024-06-14 18:28:56,696 - StarTracker.StarTracker - DEBUG - DX = target (90) - current (269.989453125) = -179.989453125\n",
      "2024-06-14 18:28:56,706 - StarTracker.StarTracker - DEBUG - DY = target (90) - current (269.982) = -179.98200000000003\n",
      "2024-06-14 18:28:56,728 - StarTracker.StarTracker - INFO - Speed components to move 10 deg/sec. X: 7.071214215160041, Y:7.070921405539632\n",
      "90 90 current pos: (90.00703125000001, 90.00000000000001, 0.0)\n",
      "2024-06-14 18:29:32,054 - StarTracker.StarTracker - DEBUG - DX = target (180) - current (90.00703125000001) = 89.99296874999999\n",
      "2024-06-14 18:29:32,073 - StarTracker.StarTracker - DEBUG - DY = target (180) - current (90.00000000000001) = 89.99999999999999\n",
      "2024-06-14 18:29:32,088 - StarTracker.StarTracker - INFO - Speed components to move 10 deg/sec. X: 7.070791582094052, Y:7.071344030846461\n",
      "180 180 current pos: (179.99296875000002, 179.98200000000003, 0.0)\n",
      "2024-06-14 18:29:52,333 - StarTracker.StarTracker - DEBUG - DX = target (270) - current (179.99296875000002) = 90.00703124999998\n",
      "2024-06-14 18:29:52,346 - StarTracker.StarTracker - DEBUG - DY = target (270) - current (179.98200000000003) = 90.01799999999997\n",
      "2024-06-14 18:29:52,379 - StarTracker.StarTracker - INFO - Speed components to move 10 deg/sec. X: 7.0706369654591175, Y:7.071498632021582\n",
      "270 270 current pos: (269.989453125, 269.982, 0.0)\n",
      "2024-06-14 18:30:12,614 - StarTracker.StarTracker - DEBUG - DX = target (90) - current (269.989453125) = -179.989453125\n",
      "2024-06-14 18:30:12,628 - StarTracker.StarTracker - DEBUG - DY = target (90) - current (269.982) = -179.98200000000003\n",
      "2024-06-14 18:30:12,655 - StarTracker.StarTracker - INFO - Speed components to move 10 deg/sec. X: 7.071214215160041, Y:7.070921405539632\n",
      "90 90 current pos: (90.00703125000001, 90.00000000000001, 0.0)\n",
      "2024-06-14 18:30:48,056 - StarTracker.StarTracker - DEBUG - DX = target (180) - current (90.00703125000001) = 89.99296874999999\n",
      "2024-06-14 18:30:48,070 - StarTracker.StarTracker - DEBUG - DY = target (180) - current (90.00000000000001) = 89.99999999999999\n",
      "2024-06-14 18:30:48,089 - StarTracker.StarTracker - INFO - Speed components to move 10 deg/sec. X: 7.070791582094052, Y:7.071344030846461\n",
      "180 180 current pos: (179.99296875000002, 179.98200000000003, 0.0)\n",
      "2024-06-14 18:31:08,272 - StarTracker.StarTracker - DEBUG - DX = target (270) - current (179.99296875000002) = 90.00703124999998\n",
      "2024-06-14 18:31:08,282 - StarTracker.StarTracker - DEBUG - DY = target (270) - current (179.98200000000003) = 90.01799999999997\n",
      "2024-06-14 18:31:08,303 - StarTracker.StarTracker - INFO - Speed components to move 10 deg/sec. X: 7.0706369654591175, Y:7.071498632021582\n",
      "270 270 current pos: (269.989453125, 269.982, 0.0)\n"
     ]
    }
   ],
   "source": [
    "for _ in range(5):\n",
    "    star_tracker.go_to_absolute(90, 90)\n",
    "    print(f'90 90 current pos: {star_tracker.get_current_pos()}')\n",
    "    time.sleep(5)\n",
    "    star_tracker.go_to_absolute(180, 180)\n",
    "    print(f'180 180 current pos: {star_tracker.get_current_pos()}')\n",
    "    time.sleep(5)\n",
    "    star_tracker.go_to_absolute(270, 270)\n",
    "    print(f'270 270 current pos: {star_tracker.get_current_pos()}')\n",
    "    time.sleep(5)"
   ]
  },
  {
   "cell_type": "code",
   "execution_count": 1,
   "id": "d8394129-041e-40b2-923e-e56df2fcbfa1",
   "metadata": {},
   "outputs": [
    {
     "ename": "NameError",
     "evalue": "name 'turntable' is not defined",
     "output_type": "error",
     "traceback": [
      "\u001b[0;31m---------------------------------------------------------------------------\u001b[0m",
      "\u001b[0;31mNameError\u001b[0m                                 Traceback (most recent call last)",
      "Cell \u001b[0;32mIn[1], line 1\u001b[0m\n\u001b[0;32m----> 1\u001b[0m \u001b[43mturntable\u001b[49m\u001b[38;5;241m.\u001b[39menable()\n\u001b[1;32m      2\u001b[0m turret\u001b[38;5;241m.\u001b[39menable()\n",
      "\u001b[0;31mNameError\u001b[0m: name 'turntable' is not defined"
     ]
    }
   ],
   "source": [
    "turntable.enable()\n",
    "turret.enable()"
   ]
  },
  {
   "cell_type": "code",
   "execution_count": 16,
   "id": "af64e407-ed19-4a05-97e8-389e6cf06c68",
   "metadata": {},
   "outputs": [],
   "source": [
    "turntable.disable()\n",
    "turret.disable()"
   ]
  },
  {
   "cell_type": "code",
   "execution_count": null,
   "id": "7e59128d-47cf-4def-bda2-2e2ce6995ac4",
   "metadata": {},
   "outputs": [],
   "source": []
  },
  {
   "cell_type": "code",
   "execution_count": null,
   "id": "00956082-b8f9-4043-b912-71f87374f604",
   "metadata": {},
   "outputs": [],
   "source": []
  }
 ],
 "metadata": {
  "kernelspec": {
   "display_name": "Python 3 (ipykernel)",
   "language": "python",
   "name": "python3"
  },
  "language_info": {
   "codemirror_mode": {
    "name": "ipython",
    "version": 3
   },
   "file_extension": ".py",
   "mimetype": "text/x-python",
   "name": "python",
   "nbconvert_exporter": "python",
   "pygments_lexer": "ipython3",
   "version": "3.11.2"
  }
 },
 "nbformat": 4,
 "nbformat_minor": 5
}
