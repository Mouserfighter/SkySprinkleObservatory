{
 "cells": [
  {
   "cell_type": "code",
   "execution_count": 2,
   "id": "eb63b56a-ddfe-47b5-b65e-7d33bf2eddcb",
   "metadata": {},
   "outputs": [],
   "source": [
    "import config\n",
    "from Motor.Motor import Motor\n",
    "import time\n",
    "turntable = Motor(config.TURNTABLE)\n",
    "turret = Motor(config.TURRET)\n",
    "spin = Motor(config.SPIN)"
   ]
  },
  {
   "cell_type": "code",
   "execution_count": null,
   "id": "01cc4d21-c606-4e99-b1aa-d2c2043dfc67",
   "metadata": {},
   "outputs": [],
   "source": [
    ">>> while True:\n",
    "...     if turret.limit_switch.isActive(): print(\"turret active\")\n",
    "...     if turntable.limit_switch.isActive(): print(\"turntable active\")\n",
    "...     if spin.limit_switch.isActive(): print(\"spin active\")"
   ]
  },
  {
   "cell_type": "code",
   "execution_count": 8,
   "id": "fae37a16-bb7c-47ae-a05f-1e997ead3096",
   "metadata": {
    "scrolled": true
   },
   "outputs": [
    {
     "name": "stdout",
     "output_type": "stream",
     "text": [
      "Stopping motor stepping 10 in False dir because cancellation or limit switch\n",
      "calculated current angle as 5.0\n",
      "calculated current angle as 179.996\n",
      "calculated current angle as 90.01400000000001\n",
      "calculated current angle as 179.996\n",
      "calculated current angle as 90.01400000000001\n",
      "calculated current angle as 179.996\n",
      "calculated current angle as 90.01400000000001\n",
      "calculated current angle as 179.996\n",
      "calculated current angle as 90.01400000000001\n",
      "calculated current angle as 179.996\n"
     ]
    }
   ],
   "source": [
    "motor = turret\n",
    "motor.zero()\n",
    "for _ in range(5):\n",
    "    motor.go_to_absolute(180, degrees_per_second=20)\n",
    "    time.sleep(10)\n",
    "    motor.go_to_absolute(90, degrees_per_second=20)\n"
   ]
  },
  {
   "cell_type": "code",
   "execution_count": 2,
   "id": "0dd8d733-fbf7-4bb4-9e47-4a43ea40def6",
   "metadata": {},
   "outputs": [
    {
     "ename": "KeyboardInterrupt",
     "evalue": "",
     "output_type": "error",
     "traceback": [
      "\u001b[0;31m---------------------------------------------------------------------------\u001b[0m",
      "\u001b[0;31mKeyboardInterrupt\u001b[0m                         Traceback (most recent call last)",
      "Cell \u001b[0;32mIn[2], line 1\u001b[0m\n\u001b[0;32m----> 1\u001b[0m \u001b[43mturret\u001b[49m\u001b[38;5;241;43m.\u001b[39;49m\u001b[43mzero\u001b[49m\u001b[43m(\u001b[49m\u001b[43m)\u001b[49m\n\u001b[1;32m      2\u001b[0m turret\u001b[38;5;241m.\u001b[39mgo_to_absolute(\u001b[38;5;241m180\u001b[39m,\u001b[38;5;241m20\u001b[39m)\n\u001b[1;32m      3\u001b[0m turntable\u001b[38;5;241m.\u001b[39mzero()\n",
      "File \u001b[0;32m~/SkySprinkleObservatory/Motor/Motor.py:133\u001b[0m, in \u001b[0;36mMotor.zero\u001b[0;34m(self)\u001b[0m\n\u001b[1;32m    131\u001b[0m     \u001b[38;5;28;01mpass\u001b[39;00m\n\u001b[1;32m    132\u001b[0m \u001b[38;5;28;01mwhile\u001b[39;00m \u001b[38;5;129;01mnot\u001b[39;00m \u001b[38;5;28mself\u001b[39m\u001b[38;5;241m.\u001b[39mconfig\u001b[38;5;241m.\u001b[39mlimit_switch\u001b[38;5;241m.\u001b[39misActive():\n\u001b[0;32m--> 133\u001b[0m     \u001b[38;5;28;43mself\u001b[39;49m\u001b[38;5;241;43m.\u001b[39;49m\u001b[43mstep_motor\u001b[49m\u001b[43m(\u001b[49m\u001b[38;5;241;43m10\u001b[39;49m\u001b[43m,\u001b[49m\u001b[43m \u001b[49m\u001b[38;5;129;43;01mnot\u001b[39;49;00m\u001b[43m \u001b[49m\u001b[38;5;28;43mself\u001b[39;49m\u001b[38;5;241;43m.\u001b[39;49m\u001b[43mconfig\u001b[49m\u001b[38;5;241;43m.\u001b[39;49m\u001b[43mforward_direction\u001b[49m\u001b[43m,\u001b[49m\u001b[43m \u001b[49m\u001b[43mseconds_per_step\u001b[49m\u001b[38;5;241;43m=\u001b[39;49m\u001b[38;5;28;43mself\u001b[39;49m\u001b[38;5;241;43m.\u001b[39;49m\u001b[43m_calculate_seconds_per_step\u001b[49m\u001b[43m(\u001b[49m\u001b[43mconfig\u001b[49m\u001b[38;5;241;43m.\u001b[39;49m\u001b[43mzero_degrees_per_sec\u001b[49m\u001b[43m)\u001b[49m\u001b[43m,\u001b[49m\n\u001b[1;32m    134\u001b[0m \u001b[43m                    \u001b[49m\u001b[43mcheck_limit\u001b[49m\u001b[38;5;241;43m=\u001b[39;49m\u001b[38;5;28;43;01mFalse\u001b[39;49;00m\u001b[43m)\u001b[49m\n\u001b[1;32m    135\u001b[0m \u001b[38;5;28mself\u001b[39m\u001b[38;5;241m.\u001b[39mcurrent_step \u001b[38;5;241m=\u001b[39m \u001b[38;5;241m0\u001b[39m\n",
      "File \u001b[0;32m~/SkySprinkleObservatory/Motor/Motor.py:83\u001b[0m, in \u001b[0;36mMotor.step_motor\u001b[0;34m(self, steps, direction, seconds_per_step, check_limit, cancellation_event)\u001b[0m\n\u001b[1;32m     81\u001b[0m     \u001b[38;5;28;01mbreak\u001b[39;00m\n\u001b[1;32m     82\u001b[0m GPIO\u001b[38;5;241m.\u001b[39moutput(\u001b[38;5;28mself\u001b[39m\u001b[38;5;241m.\u001b[39mconfig\u001b[38;5;241m.\u001b[39mstep_pin, GPIO\u001b[38;5;241m.\u001b[39mHIGH)\n\u001b[0;32m---> 83\u001b[0m time\u001b[38;5;241m.\u001b[39msleep(half_seconds_per_step)\n\u001b[1;32m     84\u001b[0m GPIO\u001b[38;5;241m.\u001b[39moutput(\u001b[38;5;28mself\u001b[39m\u001b[38;5;241m.\u001b[39mconfig\u001b[38;5;241m.\u001b[39mstep_pin, GPIO\u001b[38;5;241m.\u001b[39mLOW)\n\u001b[1;32m     85\u001b[0m \u001b[38;5;28mself\u001b[39m\u001b[38;5;241m.\u001b[39mcurrent_step \u001b[38;5;241m+\u001b[39m\u001b[38;5;241m=\u001b[39m step_inc\n",
      "\u001b[0;31mKeyboardInterrupt\u001b[0m: "
     ]
    }
   ],
   "source": [
    "turret.zero()\n",
    "turret.go_to_absolute(180,20)\n",
    "turntable.zero()\n",
    "turntable.go_to_absolute(180, 20)"
   ]
  },
  {
   "cell_type": "code",
   "execution_count": 3,
   "id": "c1cb5d52-c13c-46e6-9101-af76c36ac242",
   "metadata": {},
   "outputs": [],
   "source": [
    "from StarTracker.StarTracker import StarTracker\n",
    "\n",
    "star_tracker = StarTracker(turntable, turret, spin)\n",
    "star_tracker.zero()"
   ]
  },
  {
   "cell_type": "code",
   "execution_count": 22,
   "id": "c564eb11-7ccb-4968-bc04-666cee39ca4c",
   "metadata": {},
   "outputs": [
    {
     "name": "stdout",
     "output_type": "stream",
     "text": [
      "2024-06-14 18:54:40,497 - StarTracker.StarTracker - DEBUG - DX = target (180) - current (0.0) = 180.0\n",
      "2024-06-14 18:54:40,527 - StarTracker.StarTracker - DEBUG - DY = target (180) - current (0.0) = 180.0\n",
      "2024-06-14 18:54:40,543 - StarTracker.StarTracker - INFO - Speed components to move 10 deg/sec. X: 7.071067811865475, Y:7.071067811865475\n"
     ]
    }
   ],
   "source": [
    "star_tracker.zero()\n",
    "star_tracker.go_to_absolute(180, 180)"
   ]
  },
  {
   "cell_type": "code",
   "execution_count": null,
   "id": "d08d032a-a880-4ac2-a54e-17eb4b5767a1",
   "metadata": {},
   "outputs": [
    {
     "name": "stdout",
     "output_type": "stream",
     "text": [
      "2024-06-15 12:23:28,176 - StarTracker.StarTracker - DEBUG - DX = target (90) - current (0.0) = 90.0\n",
      "2024-06-15 12:23:28,212 - StarTracker.StarTracker - DEBUG - DY = target (90) - current (5.0) = 85.0\n",
      "2024-06-15 12:23:28,221 - StarTracker.StarTracker - INFO - Speed components to move 10 deg/sec. X: 7.270131525498174, Y:6.866235329637164\n",
      "90 90 current pos: (89.99648437500001, 89.99600000000001, 0.0)\n",
      "2024-06-15 12:23:48,807 - StarTracker.StarTracker - DEBUG - DX = target (180) - current (89.99648437500001) = 90.00351562499999\n",
      "2024-06-15 12:23:48,827 - StarTracker.StarTracker - DEBUG - DY = target (180) - current (89.99600000000001) = 90.00399999999999\n",
      "2024-06-15 12:23:48,854 - StarTracker.StarTracker - INFO - Speed components to move 10 deg/sec. X: 7.071048784587266, Y:7.071086839092484\n",
      "180 180 current pos: (179.99296875000002, 179.996, 0.0)\n",
      "2024-06-15 12:24:09,733 - StarTracker.StarTracker - DEBUG - DX = target (270) - current (179.99296875000002) = 90.00703124999998\n",
      "2024-06-15 12:24:09,753 - StarTracker.StarTracker - DEBUG - DY = target (270) - current (179.996) = 90.00399999999999\n",
      "2024-06-15 12:24:09,780 - StarTracker.StarTracker - INFO - Speed components to move 10 deg/sec. X: 7.071186882311799, Y:7.07094873941408\n",
      "270 270 current pos: (269.989453125, 269.99600000000004, 0.0)\n",
      "2024-06-15 12:24:30,629 - StarTracker.StarTracker - DEBUG - DX = target (90) - current (269.989453125) = -179.989453125\n",
      "2024-06-15 12:24:30,643 - StarTracker.StarTracker - DEBUG - DY = target (90) - current (269.99600000000004) = -179.99600000000004\n",
      "2024-06-15 12:24:30,670 - StarTracker.StarTracker - INFO - Speed components to move 10 deg/sec. X: 7.070939212730069, Y:7.071196408662135\n",
      "90 90 current pos: (90.00703125000001, 90.01400000000001, 0.0)\n",
      "2024-06-15 12:25:07,513 - StarTracker.StarTracker - DEBUG - DX = target (180) - current (90.00703125000001) = 89.99296874999999\n",
      "2024-06-15 12:25:07,527 - StarTracker.StarTracker - DEBUG - DY = target (180) - current (90.01400000000001) = 89.98599999999999\n",
      "2024-06-15 12:25:07,553 - StarTracker.StarTracker - INFO - Speed components to move 10 deg/sec. X: 7.071341596908978, Y:7.070794016220865\n",
      "180 180 current pos: (179.99296875000002, 179.996, 0.0)\n",
      "2024-06-15 12:25:28,432 - StarTracker.StarTracker - DEBUG - DX = target (270) - current (179.99296875000002) = 90.00703124999998\n",
      "2024-06-15 12:25:28,442 - StarTracker.StarTracker - DEBUG - DY = target (270) - current (179.996) = 90.00399999999999\n",
      "2024-06-15 12:25:28,465 - StarTracker.StarTracker - INFO - Speed components to move 10 deg/sec. X: 7.071186882311799, Y:7.07094873941408\n",
      "270 270 current pos: (269.989453125, 269.99600000000004, 0.0)\n",
      "2024-06-15 12:25:49,335 - StarTracker.StarTracker - DEBUG - DX = target (90) - current (269.989453125) = -179.989453125\n",
      "2024-06-15 12:25:49,349 - StarTracker.StarTracker - DEBUG - DY = target (90) - current (269.99600000000004) = -179.99600000000004\n",
      "2024-06-15 12:25:49,374 - StarTracker.StarTracker - INFO - Speed components to move 10 deg/sec. X: 7.070939212730069, Y:7.071196408662135\n",
      "Stopping motor stepping 17065 in False dir because cancellation or limit switch\n",
      "90 90 current pos: (189.622265625, 90.01400000000001, 0.0)\n",
      "2024-06-15 12:26:23,900 - StarTracker.StarTracker - DEBUG - DX = target (180) - current (189.622265625) = -9.622265625000011\n",
      "2024-06-15 12:26:23,920 - StarTracker.StarTracker - DEBUG - DY = target (180) - current (90.01400000000001) = 89.98599999999999\n",
      "2024-06-15 12:26:23,945 - StarTracker.StarTracker - INFO - Speed components to move 10 deg/sec. X: 1.0632455718159375, Y:9.943314782003727\n",
      "180 180 current pos: (180.003515625, 179.996, 0.0)\n",
      "2024-06-15 12:26:39,988 - StarTracker.StarTracker - DEBUG - DX = target (270) - current (180.003515625) = 89.996484375\n",
      "2024-06-15 12:26:39,998 - StarTracker.StarTracker - DEBUG - DY = target (270) - current (179.996) = 90.00399999999999\n",
      "2024-06-15 12:26:40,025 - StarTracker.StarTracker - INFO - Speed components to move 10 deg/sec. X: 7.070772564863104, Y:7.071363046540547\n",
      "270 270 current pos: (269.989453125, 269.99600000000004, 0.0)\n",
      "2024-06-15 12:27:00,903 - StarTracker.StarTracker - DEBUG - DX = target (90) - current (269.989453125) = -179.989453125\n",
      "2024-06-15 12:27:00,917 - StarTracker.StarTracker - DEBUG - DY = target (90) - current (269.99600000000004) = -179.99600000000004\n",
      "2024-06-15 12:27:00,944 - StarTracker.StarTracker - INFO - Speed components to move 10 deg/sec. X: 7.070939212730069, Y:7.071196408662135\n",
      "90 90 current pos: (90.00703125000001, 90.01400000000001, 0.0)\n",
      "2024-06-15 12:27:37,679 - StarTracker.StarTracker - DEBUG - DX = target (180) - current (90.00703125000001) = 89.99296874999999\n",
      "2024-06-15 12:27:37,693 - StarTracker.StarTracker - DEBUG - DY = target (180) - current (90.01400000000001) = 89.98599999999999\n",
      "2024-06-15 12:27:37,720 - StarTracker.StarTracker - INFO - Speed components to move 10 deg/sec. X: 7.071341596908978, Y:7.070794016220865\n"
     ]
    },
    {
     "ename": "KeyboardInterrupt",
     "evalue": "",
     "output_type": "error",
     "traceback": [
      "\u001b[0;31m---------------------------------------------------------------------------\u001b[0m",
      "\u001b[0;31mKeyboardInterrupt\u001b[0m                         Traceback (most recent call last)",
      "File \u001b[0;32m~/SkySprinkleObservatory/StarTracker/StarTracker.py:96\u001b[0m, in \u001b[0;36mStarTracker.run_go_tos_concurrently\u001b[0;34m(self, dx, dy, x_speed, y_speed, cancellation_event)\u001b[0m\n\u001b[1;32m     95\u001b[0m \u001b[38;5;28;01mfor\u001b[39;00m future \u001b[38;5;129;01min\u001b[39;00m futures:\n\u001b[0;32m---> 96\u001b[0m     \u001b[43mfuture\u001b[49m\u001b[38;5;241;43m.\u001b[39;49m\u001b[43mresult\u001b[49m\u001b[43m(\u001b[49m\u001b[43m)\u001b[49m\n",
      "File \u001b[0;32m/usr/lib/python3.11/concurrent/futures/_base.py:451\u001b[0m, in \u001b[0;36mFuture.result\u001b[0;34m(self, timeout)\u001b[0m\n\u001b[1;32m    449\u001b[0m     \u001b[38;5;28;01mreturn\u001b[39;00m \u001b[38;5;28mself\u001b[39m\u001b[38;5;241m.\u001b[39m__get_result()\n\u001b[0;32m--> 451\u001b[0m \u001b[38;5;28;43mself\u001b[39;49m\u001b[38;5;241;43m.\u001b[39;49m\u001b[43m_condition\u001b[49m\u001b[38;5;241;43m.\u001b[39;49m\u001b[43mwait\u001b[49m\u001b[43m(\u001b[49m\u001b[43mtimeout\u001b[49m\u001b[43m)\u001b[49m\n\u001b[1;32m    453\u001b[0m \u001b[38;5;28;01mif\u001b[39;00m \u001b[38;5;28mself\u001b[39m\u001b[38;5;241m.\u001b[39m_state \u001b[38;5;129;01min\u001b[39;00m [CANCELLED, CANCELLED_AND_NOTIFIED]:\n",
      "File \u001b[0;32m/usr/lib/python3.11/threading.py:320\u001b[0m, in \u001b[0;36mCondition.wait\u001b[0;34m(self, timeout)\u001b[0m\n\u001b[1;32m    319\u001b[0m \u001b[38;5;28;01mif\u001b[39;00m timeout \u001b[38;5;129;01mis\u001b[39;00m \u001b[38;5;28;01mNone\u001b[39;00m:\n\u001b[0;32m--> 320\u001b[0m     \u001b[43mwaiter\u001b[49m\u001b[38;5;241;43m.\u001b[39;49m\u001b[43macquire\u001b[49m\u001b[43m(\u001b[49m\u001b[43m)\u001b[49m\n\u001b[1;32m    321\u001b[0m     gotit \u001b[38;5;241m=\u001b[39m \u001b[38;5;28;01mTrue\u001b[39;00m\n",
      "\u001b[0;31mKeyboardInterrupt\u001b[0m: ",
      "\nDuring handling of the above exception, another exception occurred:\n",
      "\u001b[0;31mKeyboardInterrupt\u001b[0m                         Traceback (most recent call last)",
      "Cell \u001b[0;32mIn[4], line 5\u001b[0m\n\u001b[1;32m      3\u001b[0m \u001b[38;5;28mprint\u001b[39m(\u001b[38;5;124mf\u001b[39m\u001b[38;5;124m'\u001b[39m\u001b[38;5;124m90 90 current pos: \u001b[39m\u001b[38;5;132;01m{\u001b[39;00mstar_tracker\u001b[38;5;241m.\u001b[39mget_current_pos()\u001b[38;5;132;01m}\u001b[39;00m\u001b[38;5;124m'\u001b[39m)\n\u001b[1;32m      4\u001b[0m time\u001b[38;5;241m.\u001b[39msleep(\u001b[38;5;241m5\u001b[39m)\n\u001b[0;32m----> 5\u001b[0m \u001b[43mstar_tracker\u001b[49m\u001b[38;5;241;43m.\u001b[39;49m\u001b[43mgo_to_absolute\u001b[49m\u001b[43m(\u001b[49m\u001b[38;5;241;43m180\u001b[39;49m\u001b[43m,\u001b[49m\u001b[43m \u001b[49m\u001b[38;5;241;43m180\u001b[39;49m\u001b[43m)\u001b[49m\n\u001b[1;32m      6\u001b[0m \u001b[38;5;28mprint\u001b[39m(\u001b[38;5;124mf\u001b[39m\u001b[38;5;124m'\u001b[39m\u001b[38;5;124m180 180 current pos: \u001b[39m\u001b[38;5;132;01m{\u001b[39;00mstar_tracker\u001b[38;5;241m.\u001b[39mget_current_pos()\u001b[38;5;132;01m}\u001b[39;00m\u001b[38;5;124m'\u001b[39m)\n\u001b[1;32m      7\u001b[0m time\u001b[38;5;241m.\u001b[39msleep(\u001b[38;5;241m5\u001b[39m)\n",
      "File \u001b[0;32m~/SkySprinkleObservatory/StarTracker/StarTracker.py:66\u001b[0m, in \u001b[0;36mStarTracker.go_to_absolute\u001b[0;34m(self, altitude, azimuth, degrees_per_second, cancellation_event)\u001b[0m\n\u001b[1;32m     62\u001b[0m \u001b[38;5;28mself\u001b[39m\u001b[38;5;241m.\u001b[39mlogger\u001b[38;5;241m.\u001b[39minfo(\u001b[38;5;124mf\u001b[39m\u001b[38;5;124m\"\u001b[39m\u001b[38;5;124mSpeed components to move \u001b[39m\u001b[38;5;132;01m{\u001b[39;00mdegrees_per_second\u001b[38;5;132;01m}\u001b[39;00m\u001b[38;5;124m deg/sec. X: \u001b[39m\u001b[38;5;132;01m{\u001b[39;00mx_speed\u001b[38;5;132;01m}\u001b[39;00m\u001b[38;5;124m, Y:\u001b[39m\u001b[38;5;132;01m{\u001b[39;00my_speed\u001b[38;5;132;01m}\u001b[39;00m\u001b[38;5;124m\"\u001b[39m)\n\u001b[1;32m     63\u001b[0m \u001b[38;5;66;03m# This function is intended to be called within a new thread,\u001b[39;00m\n\u001b[1;32m     64\u001b[0m \u001b[38;5;66;03m# and sets up its own event loop for asyncio operations.\u001b[39;00m\n\u001b[0;32m---> 66\u001b[0m \u001b[38;5;28;43mself\u001b[39;49m\u001b[38;5;241;43m.\u001b[39;49m\u001b[43mrun_go_tos_concurrently\u001b[49m\u001b[43m(\u001b[49m\u001b[43mdx\u001b[49m\u001b[43m,\u001b[49m\u001b[43m \u001b[49m\u001b[43mdy\u001b[49m\u001b[43m,\u001b[49m\u001b[43m \u001b[49m\u001b[43mx_speed\u001b[49m\u001b[43m,\u001b[49m\u001b[43m \u001b[49m\u001b[43my_speed\u001b[49m\u001b[43m,\u001b[49m\u001b[43m \u001b[49m\u001b[43mcancellation_event\u001b[49m\u001b[43m)\u001b[49m\n\u001b[1;32m     67\u001b[0m \u001b[38;5;250m\u001b[39m\u001b[38;5;124;03m\"\"\"\u001b[39;00m\n\u001b[1;32m     68\u001b[0m \u001b[38;5;124;03m# Create a new event loop for the current thread.\u001b[39;00m\n\u001b[1;32m     69\u001b[0m \u001b[38;5;124;03mloop = asyncio.new_event_loop()\u001b[39;00m\n\u001b[0;32m   (...)\u001b[0m\n\u001b[1;32m     82\u001b[0m \u001b[38;5;124;03m    loop.close()\u001b[39;00m\n\u001b[1;32m     83\u001b[0m \u001b[38;5;124;03m\"\"\"\u001b[39;00m\n",
      "File \u001b[0;32m~/SkySprinkleObservatory/StarTracker/StarTracker.py:87\u001b[0m, in \u001b[0;36mStarTracker.run_go_tos_concurrently\u001b[0;34m(self, dx, dy, x_speed, y_speed, cancellation_event)\u001b[0m\n\u001b[1;32m     86\u001b[0m \u001b[38;5;28;01mdef\u001b[39;00m \u001b[38;5;21mrun_go_tos_concurrently\u001b[39m(\u001b[38;5;28mself\u001b[39m, dx, dy, x_speed, y_speed, cancellation_event):\n\u001b[0;32m---> 87\u001b[0m \u001b[43m    \u001b[49m\u001b[38;5;28;43;01mwith\u001b[39;49;00m\u001b[43m \u001b[49m\u001b[43mThreadPoolExecutor\u001b[49m\u001b[43m(\u001b[49m\u001b[43m)\u001b[49m\u001b[43m \u001b[49m\u001b[38;5;28;43;01mas\u001b[39;49;00m\u001b[43m \u001b[49m\u001b[43mexecutor\u001b[49m\u001b[43m:\u001b[49m\n\u001b[1;32m     88\u001b[0m \u001b[43m        \u001b[49m\u001b[43mfutures\u001b[49m\u001b[43m \u001b[49m\u001b[38;5;241;43m=\u001b[39;49m\u001b[43m \u001b[49m\u001b[43m[\u001b[49m\n\u001b[1;32m     89\u001b[0m \u001b[43m            \u001b[49m\u001b[43mexecutor\u001b[49m\u001b[38;5;241;43m.\u001b[39;49m\u001b[43msubmit\u001b[49m\u001b[43m(\u001b[49m\u001b[38;5;28;43mself\u001b[39;49m\u001b[38;5;241;43m.\u001b[39;49m\u001b[43mturntable\u001b[49m\u001b[38;5;241;43m.\u001b[39;49m\u001b[43mgo_to\u001b[49m\u001b[43m,\u001b[49m\u001b[43m \u001b[49m\u001b[43mdx\u001b[49m\u001b[43m,\u001b[49m\u001b[43m \u001b[49m\u001b[43mx_speed\u001b[49m\u001b[43m,\u001b[49m\u001b[43m \u001b[49m\u001b[38;5;28;43;01mTrue\u001b[39;49;00m\u001b[43m,\u001b[49m\u001b[43m \u001b[49m\u001b[43mcancellation_event\u001b[49m\u001b[43m)\u001b[49m\u001b[43m,\u001b[49m\n\u001b[1;32m     90\u001b[0m \u001b[43m            \u001b[49m\u001b[43mexecutor\u001b[49m\u001b[38;5;241;43m.\u001b[39;49m\u001b[43msubmit\u001b[49m\u001b[43m(\u001b[49m\u001b[38;5;28;43mself\u001b[39;49m\u001b[38;5;241;43m.\u001b[39;49m\u001b[43mturret\u001b[49m\u001b[38;5;241;43m.\u001b[39;49m\u001b[43mgo_to\u001b[49m\u001b[43m,\u001b[49m\u001b[43m \u001b[49m\u001b[43mdy\u001b[49m\u001b[43m,\u001b[49m\u001b[43m \u001b[49m\u001b[43my_speed\u001b[49m\u001b[43m,\u001b[49m\u001b[43m \u001b[49m\u001b[38;5;28;43;01mTrue\u001b[39;49;00m\u001b[43m,\u001b[49m\u001b[43m \u001b[49m\u001b[43mcancellation_event\u001b[49m\u001b[43m)\u001b[49m\n\u001b[1;32m     91\u001b[0m \u001b[43m            \u001b[49m\u001b[38;5;66;43;03m# Uncomment the following line if you need to include spin.go_to\u001b[39;49;00m\n\u001b[1;32m     92\u001b[0m \u001b[43m            \u001b[49m\u001b[38;5;66;43;03m# executor.submit(spin.go_to, -180, 60)\u001b[39;49;00m\n\u001b[1;32m     93\u001b[0m \u001b[43m        \u001b[49m\u001b[43m]\u001b[49m\n\u001b[1;32m     94\u001b[0m \u001b[43m        \u001b[49m\u001b[38;5;66;43;03m# Wait for all futures to complete\u001b[39;49;00m\n",
      "File \u001b[0;32m/usr/lib/python3.11/concurrent/futures/_base.py:647\u001b[0m, in \u001b[0;36mExecutor.__exit__\u001b[0;34m(self, exc_type, exc_val, exc_tb)\u001b[0m\n\u001b[1;32m    646\u001b[0m \u001b[38;5;28;01mdef\u001b[39;00m \u001b[38;5;21m__exit__\u001b[39m(\u001b[38;5;28mself\u001b[39m, exc_type, exc_val, exc_tb):\n\u001b[0;32m--> 647\u001b[0m     \u001b[38;5;28;43mself\u001b[39;49m\u001b[38;5;241;43m.\u001b[39;49m\u001b[43mshutdown\u001b[49m\u001b[43m(\u001b[49m\u001b[43mwait\u001b[49m\u001b[38;5;241;43m=\u001b[39;49m\u001b[38;5;28;43;01mTrue\u001b[39;49;00m\u001b[43m)\u001b[49m\n\u001b[1;32m    648\u001b[0m     \u001b[38;5;28;01mreturn\u001b[39;00m \u001b[38;5;28;01mFalse\u001b[39;00m\n",
      "File \u001b[0;32m/usr/lib/python3.11/concurrent/futures/thread.py:235\u001b[0m, in \u001b[0;36mThreadPoolExecutor.shutdown\u001b[0;34m(self, wait, cancel_futures)\u001b[0m\n\u001b[1;32m    233\u001b[0m \u001b[38;5;28;01mif\u001b[39;00m wait:\n\u001b[1;32m    234\u001b[0m     \u001b[38;5;28;01mfor\u001b[39;00m t \u001b[38;5;129;01min\u001b[39;00m \u001b[38;5;28mself\u001b[39m\u001b[38;5;241m.\u001b[39m_threads:\n\u001b[0;32m--> 235\u001b[0m         \u001b[43mt\u001b[49m\u001b[38;5;241;43m.\u001b[39;49m\u001b[43mjoin\u001b[49m\u001b[43m(\u001b[49m\u001b[43m)\u001b[49m\n",
      "File \u001b[0;32m/usr/lib/python3.11/threading.py:1112\u001b[0m, in \u001b[0;36mThread.join\u001b[0;34m(self, timeout)\u001b[0m\n\u001b[1;32m   1109\u001b[0m     \u001b[38;5;28;01mraise\u001b[39;00m \u001b[38;5;167;01mRuntimeError\u001b[39;00m(\u001b[38;5;124m\"\u001b[39m\u001b[38;5;124mcannot join current thread\u001b[39m\u001b[38;5;124m\"\u001b[39m)\n\u001b[1;32m   1111\u001b[0m \u001b[38;5;28;01mif\u001b[39;00m timeout \u001b[38;5;129;01mis\u001b[39;00m \u001b[38;5;28;01mNone\u001b[39;00m:\n\u001b[0;32m-> 1112\u001b[0m     \u001b[38;5;28;43mself\u001b[39;49m\u001b[38;5;241;43m.\u001b[39;49m\u001b[43m_wait_for_tstate_lock\u001b[49m\u001b[43m(\u001b[49m\u001b[43m)\u001b[49m\n\u001b[1;32m   1113\u001b[0m \u001b[38;5;28;01melse\u001b[39;00m:\n\u001b[1;32m   1114\u001b[0m     \u001b[38;5;66;03m# the behavior of a negative timeout isn't documented, but\u001b[39;00m\n\u001b[1;32m   1115\u001b[0m     \u001b[38;5;66;03m# historically .join(timeout=x) for x<0 has acted as if timeout=0\u001b[39;00m\n\u001b[1;32m   1116\u001b[0m     \u001b[38;5;28mself\u001b[39m\u001b[38;5;241m.\u001b[39m_wait_for_tstate_lock(timeout\u001b[38;5;241m=\u001b[39m\u001b[38;5;28mmax\u001b[39m(timeout, \u001b[38;5;241m0\u001b[39m))\n",
      "File \u001b[0;32m/usr/lib/python3.11/threading.py:1132\u001b[0m, in \u001b[0;36mThread._wait_for_tstate_lock\u001b[0;34m(self, block, timeout)\u001b[0m\n\u001b[1;32m   1129\u001b[0m     \u001b[38;5;28;01mreturn\u001b[39;00m\n\u001b[1;32m   1131\u001b[0m \u001b[38;5;28;01mtry\u001b[39;00m:\n\u001b[0;32m-> 1132\u001b[0m     \u001b[38;5;28;01mif\u001b[39;00m \u001b[43mlock\u001b[49m\u001b[38;5;241;43m.\u001b[39;49m\u001b[43macquire\u001b[49m\u001b[43m(\u001b[49m\u001b[43mblock\u001b[49m\u001b[43m,\u001b[49m\u001b[43m \u001b[49m\u001b[43mtimeout\u001b[49m\u001b[43m)\u001b[49m:\n\u001b[1;32m   1133\u001b[0m         lock\u001b[38;5;241m.\u001b[39mrelease()\n\u001b[1;32m   1134\u001b[0m         \u001b[38;5;28mself\u001b[39m\u001b[38;5;241m.\u001b[39m_stop()\n",
      "\u001b[0;31mKeyboardInterrupt\u001b[0m: "
     ]
    }
   ],
   "source": [
    "for _ in range(5):\n",
    "    star_tracker.go_to_absolute(90, 90)\n",
    "    print(f'90 90 current pos: {star_tracker.get_current_pos()}')\n",
    "    time.sleep(5)\n",
    "    star_tracker.go_to_absolute(180, 180)\n",
    "    print(f'180 180 current pos: {star_tracker.get_current_pos()}')\n",
    "    time.sleep(5)\n",
    "    star_tracker.go_to_absolute(270, 270)\n",
    "    print(f'270 270 current pos: {star_tracker.get_current_pos()}')\n",
    "    time.sleep(5)"
   ]
  },
  {
   "cell_type": "code",
   "execution_count": 5,
   "id": "d8394129-041e-40b2-923e-e56df2fcbfa1",
   "metadata": {},
   "outputs": [],
   "source": [
    "turntable.enable()\n",
    "turret.enable()\n",
    "spin.enable()"
   ]
  },
  {
   "cell_type": "code",
   "execution_count": 9,
   "id": "af64e407-ed19-4a05-97e8-389e6cf06c68",
   "metadata": {},
   "outputs": [],
   "source": [
    "turntable.disable()\n",
    "turret.disable()\n",
    "spin.disable()"
   ]
  },
  {
   "cell_type": "code",
   "execution_count": 3,
   "id": "7e59128d-47cf-4def-bda2-2e2ce6995ac4",
   "metadata": {},
   "outputs": [
    {
     "ename": "ImportError",
     "evalue": "Unable to import required dependencies:\nnumpy: Error importing numpy: you should not try to import numpy from\n        its source directory; please exit the numpy source tree, and relaunch\n        your python interpreter from there.",
     "output_type": "error",
     "traceback": [
      "\u001b[0;31m---------------------------------------------------------------------------\u001b[0m",
      "\u001b[0;31mImportError\u001b[0m                               Traceback (most recent call last)",
      "Cell \u001b[0;32mIn[3], line 1\u001b[0m\n\u001b[0;32m----> 1\u001b[0m \u001b[38;5;28;01mfrom\u001b[39;00m \u001b[38;5;21;01mSkyCalculator\u001b[39;00m\u001b[38;5;21;01m.\u001b[39;00m\u001b[38;5;21;01mSkyCalculator\u001b[39;00m \u001b[38;5;28;01mimport\u001b[39;00m SkyCalculator\n",
      "File \u001b[0;32m~/SkySprinkleObservatory/SkyCalculator.py:5\u001b[0m\n\u001b[1;32m      2\u001b[0m \u001b[38;5;28;01mimport\u001b[39;00m \u001b[38;5;21;01mos\u001b[39;00m\n\u001b[1;32m      3\u001b[0m \u001b[38;5;28;01mfrom\u001b[39;00m \u001b[38;5;21;01mpathlib\u001b[39;00m \u001b[38;5;28;01mimport\u001b[39;00m Path\n\u001b[0;32m----> 5\u001b[0m \u001b[38;5;28;01mimport\u001b[39;00m \u001b[38;5;21;01mpandas\u001b[39;00m \u001b[38;5;28;01mas\u001b[39;00m \u001b[38;5;21;01mpd\u001b[39;00m\n\u001b[1;32m      6\u001b[0m \u001b[38;5;28;01mfrom\u001b[39;00m \u001b[38;5;21;01mtyping\u001b[39;00m \u001b[38;5;28;01mimport\u001b[39;00m Tuple, Union\n\u001b[1;32m      8\u001b[0m \u001b[38;5;28;01mfrom\u001b[39;00m \u001b[38;5;21;01mskyfield\u001b[39;00m\u001b[38;5;21;01m.\u001b[39;00m\u001b[38;5;21;01mapi\u001b[39;00m \u001b[38;5;28;01mimport\u001b[39;00m N, W, wgs84, Loader\n",
      "File \u001b[0;32m~/SkySprinkleObservatory/venv/lib/python3.11/site-packages/pandas/__init__.py:19\u001b[0m\n\u001b[1;32m     16\u001b[0m         _missing_dependencies\u001b[38;5;241m.\u001b[39mappend(\u001b[38;5;124mf\u001b[39m\u001b[38;5;124m\"\u001b[39m\u001b[38;5;132;01m{\u001b[39;00m_dependency\u001b[38;5;132;01m}\u001b[39;00m\u001b[38;5;124m: \u001b[39m\u001b[38;5;132;01m{\u001b[39;00m_e\u001b[38;5;132;01m}\u001b[39;00m\u001b[38;5;124m\"\u001b[39m)\n\u001b[1;32m     18\u001b[0m \u001b[38;5;28;01mif\u001b[39;00m _missing_dependencies:  \u001b[38;5;66;03m# pragma: no cover\u001b[39;00m\n\u001b[0;32m---> 19\u001b[0m     \u001b[38;5;28;01mraise\u001b[39;00m \u001b[38;5;167;01mImportError\u001b[39;00m(\n\u001b[1;32m     20\u001b[0m         \u001b[38;5;124m\"\u001b[39m\u001b[38;5;124mUnable to import required dependencies:\u001b[39m\u001b[38;5;130;01m\\n\u001b[39;00m\u001b[38;5;124m\"\u001b[39m \u001b[38;5;241m+\u001b[39m \u001b[38;5;124m\"\u001b[39m\u001b[38;5;130;01m\\n\u001b[39;00m\u001b[38;5;124m\"\u001b[39m\u001b[38;5;241m.\u001b[39mjoin(_missing_dependencies)\n\u001b[1;32m     21\u001b[0m     )\n\u001b[1;32m     22\u001b[0m \u001b[38;5;28;01mdel\u001b[39;00m _hard_dependencies, _dependency, _missing_dependencies\n\u001b[1;32m     24\u001b[0m \u001b[38;5;28;01mtry\u001b[39;00m:\n\u001b[1;32m     25\u001b[0m     \u001b[38;5;66;03m# numpy compat\u001b[39;00m\n",
      "\u001b[0;31mImportError\u001b[0m: Unable to import required dependencies:\nnumpy: Error importing numpy: you should not try to import numpy from\n        its source directory; please exit the numpy source tree, and relaunch\n        your python interpreter from there."
     ]
    }
   ],
   "source": [
    "from SkyCalculator.SkyCalculator import SkyCalculator"
   ]
  },
  {
   "cell_type": "code",
   "execution_count": null,
   "id": "00956082-b8f9-4043-b912-71f87374f604",
   "metadata": {},
   "outputs": [],
   "source": []
  }
 ],
 "metadata": {
  "kernelspec": {
   "display_name": "Python 3 (ipykernel)",
   "language": "python",
   "name": "python3"
  },
  "language_info": {
   "codemirror_mode": {
    "name": "ipython",
    "version": 3
   },
   "file_extension": ".py",
   "mimetype": "text/x-python",
   "name": "python",
   "nbconvert_exporter": "python",
   "pygments_lexer": "ipython3",
   "version": "3.11.2"
  }
 },
 "nbformat": 4,
 "nbformat_minor": 5
}
