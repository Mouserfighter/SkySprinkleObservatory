{
 "cells": [
  {
   "cell_type": "code",
   "execution_count": 3,
   "id": "9ac97e50-c0a2-41f9-87f4-6af939231ff0",
   "metadata": {},
   "outputs": [
    {
     "ename": "NameError",
     "evalue": "name '__file__' is not defined",
     "output_type": "error",
     "traceback": [
      "\u001b[0;31m---------------------------------------------------------------------------\u001b[0m",
      "\u001b[0;31mNameError\u001b[0m                                 Traceback (most recent call last)",
      "Cell \u001b[0;32mIn[3], line 5\u001b[0m\n\u001b[1;32m      2\u001b[0m \u001b[38;5;28;01mimport\u001b[39;00m \u001b[38;5;21;01mos\u001b[39;00m\n\u001b[1;32m      4\u001b[0m \u001b[38;5;66;03m# Add the project root directory to the Python path\u001b[39;00m\n\u001b[0;32m----> 5\u001b[0m project_root \u001b[38;5;241m=\u001b[39m os\u001b[38;5;241m.\u001b[39mpath\u001b[38;5;241m.\u001b[39mabspath(os\u001b[38;5;241m.\u001b[39mpath\u001b[38;5;241m.\u001b[39mjoin(os\u001b[38;5;241m.\u001b[39mpath\u001b[38;5;241m.\u001b[39mdirname(\u001b[38;5;18;43m__file__\u001b[39;49m), \u001b[38;5;124m'\u001b[39m\u001b[38;5;124m../../\u001b[39m\u001b[38;5;124m'\u001b[39m))\n\u001b[1;32m      6\u001b[0m sys\u001b[38;5;241m.\u001b[39mpath\u001b[38;5;241m.\u001b[39mappend(project_root)\n\u001b[1;32m      8\u001b[0m \u001b[38;5;66;03m# Now you can import your module\u001b[39;00m\n",
      "\u001b[0;31mNameError\u001b[0m: name '__file__' is not defined"
     ]
    }
   ],
   "source": [
    "import sys\n",
    "import os\n",
    "\n",
    "# Add the project root directory to the Python path\n",
    "project_root = os.path.abspath(os.path.join(os.path.dirname(__file__), '../../'))\n",
    "sys.path.append(project_root)\n",
    "\n",
    "# Now you can import your module\n",
    "from LimitSwitch.LimitSwitch import LimitSwitch"
   ]
  },
  {
   "cell_type": "code",
   "execution_count": 2,
   "id": "407f351f-1f8f-49a5-9338-3a6036271393",
   "metadata": {},
   "outputs": [
    {
     "ename": "ModuleNotFoundError",
     "evalue": "No module named 'LimitSwitch'",
     "output_type": "error",
     "traceback": [
      "\u001b[0;31m---------------------------------------------------------------------------\u001b[0m",
      "\u001b[0;31mModuleNotFoundError\u001b[0m                       Traceback (most recent call last)",
      "Cell \u001b[0;32mIn[2], line 1\u001b[0m\n\u001b[0;32m----> 1\u001b[0m \u001b[38;5;28;01mfrom\u001b[39;00m \u001b[38;5;21;01mLimitSwitch\u001b[39;00m\u001b[38;5;21;01m.\u001b[39;00m\u001b[38;5;21;01mLimitSwitch\u001b[39;00m \u001b[38;5;28;01mimport\u001b[39;00m LimitSwitch\n\u001b[1;32m      2\u001b[0m \u001b[38;5;28;01mimport\u001b[39;00m \u001b[38;5;21;01mconfig\u001b[39;00m\n\u001b[1;32m      4\u001b[0m turntable \u001b[38;5;241m=\u001b[39m config\u001b[38;5;241m.\u001b[39mTURNTABLE\n",
      "\u001b[0;31mModuleNotFoundError\u001b[0m: No module named 'LimitSwitch'"
     ]
    }
   ],
   "source": [
    "from LimitSwitch.LimitSwitch import LimitSwitch\n",
    "import config\n",
    "\n",
    "turntable = config.TURNTABLE\n",
    "lm = turntable.limit_switch"
   ]
  },
  {
   "cell_type": "code",
   "execution_count": null,
   "id": "aebcde37-713e-48f7-8f78-8298fafc0c25",
   "metadata": {},
   "outputs": [],
   "source": [
    "\n"
   ]
  },
  {
   "cell_type": "code",
   "execution_count": null,
   "id": "de3f3fa0-515d-4e50-8c80-c4e5967ea42d",
   "metadata": {},
   "outputs": [],
   "source": []
  }
 ],
 "metadata": {
  "kernelspec": {
   "display_name": "Python 3 (ipykernel)",
   "language": "python",
   "name": "python3"
  },
  "language_info": {
   "codemirror_mode": {
    "name": "ipython",
    "version": 3
   },
   "file_extension": ".py",
   "mimetype": "text/x-python",
   "name": "python",
   "nbconvert_exporter": "python",
   "pygments_lexer": "ipython3",
   "version": "3.11.2"
  }
 },
 "nbformat": 4,
 "nbformat_minor": 5
}
