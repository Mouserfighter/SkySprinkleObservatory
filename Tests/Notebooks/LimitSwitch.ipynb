{
 "cells": [
  {
   "cell_type": "code",
   "execution_count": 8,
   "id": "9ac97e50-c0a2-41f9-87f4-6af939231ff0",
   "metadata": {},
   "outputs": [],
   "source": [
    "import sys\n",
    "import os\n",
    "\n",
    "# Define the project root directory manually\n",
    "project_root = os.path.abspath(os.path.join(os.getcwd(), '../../'))\n",
    "sys.path.append(project_root)\n",
    "\n",
    "# Now you can import your module\n",
    "from LimitSwitch.LimitSwitch import LimitSwitch\n"
   ]
  },
  {
   "cell_type": "code",
   "execution_count": 12,
   "id": "407f351f-1f8f-49a5-9338-3a6036271393",
   "metadata": {},
   "outputs": [],
   "source": [
    "import config\n",
    "config.TURNTABLE.limit_switch"
   ]
  },
  {
   "cell_type": "code",
   "execution_count": null,
   "id": "aebcde37-713e-48f7-8f78-8298fafc0c25",
   "metadata": {},
   "outputs": [],
   "source": []
  },
  {
   "cell_type": "code",
   "execution_count": null,
   "id": "de3f3fa0-515d-4e50-8c80-c4e5967ea42d",
   "metadata": {},
   "outputs": [],
   "source": []
  }
 ],
 "metadata": {
  "kernelspec": {
   "display_name": "Python 3 (ipykernel)",
   "language": "python",
   "name": "python3"
  },
  "language_info": {
   "codemirror_mode": {
    "name": "ipython",
    "version": 3
   },
   "file_extension": ".py",
   "mimetype": "text/x-python",
   "name": "python",
   "nbconvert_exporter": "python",
   "pygments_lexer": "ipython3",
   "version": "3.11.2"
  }
 },
 "nbformat": 4,
 "nbformat_minor": 5
}
